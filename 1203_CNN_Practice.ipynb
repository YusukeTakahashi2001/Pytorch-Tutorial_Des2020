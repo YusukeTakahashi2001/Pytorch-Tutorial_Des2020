{
  "nbformat": 4,
  "nbformat_minor": 0,
  "metadata": {
    "kernelspec": {
      "display_name": "Python 3",
      "language": "python",
      "name": "python3"
    },
    "language_info": {
      "codemirror_mode": {
        "name": "ipython",
        "version": 3
      },
      "file_extension": ".py",
      "mimetype": "text/x-python",
      "name": "python",
      "nbconvert_exporter": "python",
      "pygments_lexer": "ipython3",
      "version": "3.8.3"
    },
    "colab": {
      "name": "1203_CNN-Practice.ipynb",
      "provenance": [],
      "collapsed_sections": [],
      "include_colab_link": true
    },
    "accelerator": "GPU"
  },
  "cells": [
    {
      "cell_type": "markdown",
      "metadata": {
        "id": "view-in-github",
        "colab_type": "text"
      },
      "source": [
        "<a href=\"https://colab.research.google.com/github/YusukeTakahashi2001/Pytorch-Tutorial_Des2020/blob/main/1203_CNN_Practice.ipynb\" target=\"_parent\"><img src=\"https://colab.research.google.com/assets/colab-badge.svg\" alt=\"Open In Colab\"/></a>"
      ]
    },
    {
      "cell_type": "code",
      "metadata": {
        "colab": {
          "base_uri": "https://localhost:8080/"
        },
        "id": "V7dBawWHO9ba",
        "outputId": "a867b457-4c8c-4830-db36-c147c9e72f89"
      },
      "source": [
        "from google.colab import drive \n",
        "drive.mount('/content/drive')\n",
        "%cd drive/'My Drive'/FashionMnist-Practice"
      ],
      "execution_count": null,
      "outputs": [
        {
          "output_type": "stream",
          "text": [
            "Mounted at /content/drive\n",
            "/content/drive/My Drive/FashionMnist-Practice\n"
          ],
          "name": "stdout"
        }
      ]
    },
    {
      "cell_type": "code",
      "metadata": {
        "colab": {
          "base_uri": "https://localhost:8080/"
        },
        "id": "XBQZA66pO6tH",
        "outputId": "ec91c16f-27b0-4cee-e6f1-1b1ffa2b2a55"
      },
      "source": [
        "!pip install comet_ml\n",
        "# import comet_ml at the top of your file\n",
        "from comet_ml import Experiment\n",
        "\n",
        "# import comet_ml at the top of your file\n",
        "from comet_ml import Experiment\n",
        "\n",
        "# Create an experiment with your api key:\n",
        "experiment = Experiment(\n",
        "    api_key=\"1H4oWzrtQdGj3uKZIDjQomMQs\",\n",
        "    project_name=\"fashionmnist-practice\",\n",
        "    workspace=\"yusuketakahashi2001\",\n",
        ")"
      ],
      "execution_count": null,
      "outputs": [
        {
          "output_type": "stream",
          "text": [
            "Collecting comet_ml\n",
            "\u001b[?25l  Downloading https://files.pythonhosted.org/packages/af/44/6c1ce8027dd4a238ffb229df2711ace468df670040ce7aaba08382530979/comet_ml-3.2.7-py2.py3-none-any.whl (237kB)\n",
            "\u001b[K     |████████████████████████████████| 245kB 8.4MB/s \n",
            "\u001b[?25hCollecting wurlitzer>=1.0.2\n",
            "  Downloading https://files.pythonhosted.org/packages/0c/1e/52f4effa64a447c4ec0fb71222799e2ac32c55b4b6c1725fccdf6123146e/wurlitzer-2.0.1-py2.py3-none-any.whl\n",
            "Collecting websocket-client>=0.55.0\n",
            "\u001b[?25l  Downloading https://files.pythonhosted.org/packages/4c/5f/f61b420143ed1c8dc69f9eaec5ff1ac36109d52c80de49d66e0c36c3dfdf/websocket_client-0.57.0-py2.py3-none-any.whl (200kB)\n",
            "\u001b[K     |████████████████████████████████| 204kB 13.7MB/s \n",
            "\u001b[?25hCollecting netifaces>=0.10.7\n",
            "  Downloading https://files.pythonhosted.org/packages/0c/9b/c4c7eb09189548d45939a3d3a6b3d53979c67d124459b27a094c365c347f/netifaces-0.10.9-cp36-cp36m-manylinux1_x86_64.whl\n",
            "Collecting everett[ini]>=1.0.1; python_version >= \"3.0\"\n",
            "  Downloading https://files.pythonhosted.org/packages/fe/dc/38593280ec30fe1cb2611ec65554b76b68d13582bf490113e3332cdd85ea/everett-1.0.3-py2.py3-none-any.whl\n",
            "Requirement already satisfied: nvidia-ml-py3>=7.352.0 in /usr/local/lib/python3.6/dist-packages (from comet_ml) (7.352.0)\n",
            "Collecting dulwich>=0.20.6; python_version >= \"3.0\"\n",
            "\u001b[?25l  Downloading https://files.pythonhosted.org/packages/1e/3e/b5ee0d62282190a2937cde50bd7744318ffbd688146953f6305ccfb73274/dulwich-0.20.14-cp36-cp36m-manylinux2010_x86_64.whl (501kB)\n",
            "\u001b[K     |████████████████████████████████| 512kB 14.7MB/s \n",
            "\u001b[?25hRequirement already satisfied: wrapt>=1.11.2 in /usr/local/lib/python3.6/dist-packages (from comet_ml) (1.12.1)\n",
            "Requirement already satisfied: jsonschema!=3.1.0,>=2.6.0 in /usr/local/lib/python3.6/dist-packages (from comet_ml) (2.6.0)\n",
            "Requirement already satisfied: six in /usr/local/lib/python3.6/dist-packages (from comet_ml) (1.15.0)\n",
            "Requirement already satisfied: requests>=2.18.4 in /usr/local/lib/python3.6/dist-packages (from comet_ml) (2.23.0)\n",
            "Collecting configobj; extra == \"ini\"\n",
            "  Downloading https://files.pythonhosted.org/packages/64/61/079eb60459c44929e684fa7d9e2fdca403f67d64dd9dbac27296be2e0fab/configobj-5.0.6.tar.gz\n",
            "Requirement already satisfied: certifi in /usr/local/lib/python3.6/dist-packages (from dulwich>=0.20.6; python_version >= \"3.0\"->comet_ml) (2020.11.8)\n",
            "Requirement already satisfied: urllib3>=1.24.1 in /usr/local/lib/python3.6/dist-packages (from dulwich>=0.20.6; python_version >= \"3.0\"->comet_ml) (1.24.3)\n",
            "Requirement already satisfied: idna<3,>=2.5 in /usr/local/lib/python3.6/dist-packages (from requests>=2.18.4->comet_ml) (2.10)\n",
            "Requirement already satisfied: chardet<4,>=3.0.2 in /usr/local/lib/python3.6/dist-packages (from requests>=2.18.4->comet_ml) (3.0.4)\n",
            "Building wheels for collected packages: configobj\n",
            "  Building wheel for configobj (setup.py) ... \u001b[?25l\u001b[?25hdone\n",
            "  Created wheel for configobj: filename=configobj-5.0.6-cp36-none-any.whl size=34547 sha256=3fe5cc2aeeee7a2d36bfb9a6da7096ddd9df27506beff5c8fa2a89ec334951fc\n",
            "  Stored in directory: /root/.cache/pip/wheels/f1/e4/16/4981ca97c2d65106b49861e0b35e2660695be7219a2d351ee0\n",
            "Successfully built configobj\n",
            "Installing collected packages: wurlitzer, websocket-client, netifaces, configobj, everett, dulwich, comet-ml\n",
            "Successfully installed comet-ml-3.2.7 configobj-5.0.6 dulwich-0.20.14 everett-1.0.3 netifaces-0.10.9 websocket-client-0.57.0 wurlitzer-2.0.1\n"
          ],
          "name": "stdout"
        },
        {
          "output_type": "stream",
          "text": [
            "COMET INFO: Experiment is live on comet.ml https://www.comet.ml/yusuketakahashi2001/fashionmnist-practice/28db3b1c0d8645cc9c6326c138b05b00\n",
            "\n"
          ],
          "name": "stderr"
        }
      ]
    },
    {
      "cell_type": "code",
      "metadata": {
        "id": "1ZITCClzO6tI"
      },
      "source": [
        "import numpy as np\n",
        "import torch\n",
        "import torch.nn as nn\n",
        "import torch.optim as optim\n",
        "import torch.utils.data as data\n",
        "import torchvision\n",
        "from torchvision import models,transforms,datasets\n",
        "import torch.nn.functional as F"
      ],
      "execution_count": null,
      "outputs": []
    },
    {
      "cell_type": "code",
      "metadata": {
        "colab": {
          "base_uri": "https://localhost:8080/"
        },
        "id": "-qntF0vVO6tJ",
        "outputId": "7942928f-21c6-437c-eaf4-4b1fde1a5955"
      },
      "source": [
        "device = 'cuda' if torch.cuda.is_available() else 'cpu'\n",
        "print(device)"
      ],
      "execution_count": null,
      "outputs": [
        {
          "output_type": "stream",
          "text": [
            "cuda\n"
          ],
          "name": "stdout"
        }
      ]
    },
    {
      "cell_type": "code",
      "metadata": {
        "id": "dn5-5QWFO6tJ"
      },
      "source": [
        "class CNNNet(nn.Module):\n",
        "    def __init__(self,in_channel):\n",
        "        super(CNNNet,self).__init__()\n",
        "        self.layer1 = nn.Sequential(\n",
        "            nn.Conv2d(in_channels=in_channel,out_channels=16,kernel_size=3,stride=1),\n",
        "            nn.Conv2d(in_channels=16,out_channels=32,kernel_size=3,stride=1),\n",
        "        )\n",
        "        self.layer2 = nn.Sequential(\n",
        "            nn.Conv2d(in_channels=32,out_channels=64,kernel_size=3,stride=1),\n",
        "            nn.Conv2d(in_channels=64,out_channels=128,kernel_size=3,stride=1),\n",
        "            # out torch.Size([10, 128, 20, 20])\n",
        "        )\n",
        "        self.dence = nn.Sequential(\n",
        "            nn.Linear(128*4*4,128),\n",
        "            nn.Dropout(p=0.2),\n",
        "            nn.Linear(128,64),\n",
        "            nn.Dropout(p=0.2),\n",
        "            nn.Linear(64,10),  \n",
        "        )\n",
        "    def forward(self,x):\n",
        "        x = F.relu(self.layer1(x))\n",
        "        x = F.max_pool2d(x,2,2)\n",
        "        x = F.relu(self.layer2(x))\n",
        "        x = F.max_pool2d(x,2,2)\n",
        "        x = x.view(x.size()[0], -1)\n",
        "        x = self.dence(x)\n",
        "        \n",
        "        return x\n",
        "        \n",
        "    def check_net_size(self,x):\n",
        "        x = self.layer1(x)\n",
        "        out = self.layer2(x)\n",
        "        \n",
        "        return out"
      ],
      "execution_count": null,
      "outputs": []
    },
    {
      "cell_type": "code",
      "metadata": {
        "id": "3i-a6dJEZqTJ"
      },
      "source": [
        "def h_cal(H,P,S,F):\n",
        "  out = ((H + 2*P -F)/S) + 1\n",
        "  return out"
      ],
      "execution_count": null,
      "outputs": []
    },
    {
      "cell_type": "code",
      "metadata": {
        "colab": {
          "base_uri": "https://localhost:8080/"
        },
        "id": "wjDlZUa3aJ7I",
        "outputId": "45160400-92e2-4c5a-e01e-9a490d3de35c"
      },
      "source": [
        "print(h_cal(28,0,1,3),h_cal(26,0,1,3),h_cal(28,0,1,3),h_cal(12,0,1,3),h_cal(10,0,1,3))"
      ],
      "execution_count": null,
      "outputs": [
        {
          "output_type": "stream",
          "text": [
            "26.0 24.0 26.0 10.0 8.0\n"
          ],
          "name": "stdout"
        }
      ]
    },
    {
      "cell_type": "code",
      "metadata": {
        "id": "qK2gT75_O6tJ"
      },
      "source": [
        "hyper_params = {\n",
        "    \"batch_size\": 10,\n",
        "    \"num_epochs\": 4,\n",
        "    \"learning_rate\": 0.01,\n",
        "    \"in_channel\":1\n",
        "   \n",
        "}"
      ],
      "execution_count": null,
      "outputs": []
    },
    {
      "cell_type": "code",
      "metadata": {
        "id": "VkxTqFfpO6tJ"
      },
      "source": [
        "class ImageTransform():\n",
        "    def __init__(self):\n",
        "        self.data_out = transforms.Compose([\n",
        "            transforms.ToTensor()\n",
        "        ])\n",
        "        \n",
        "    def __call__(self,img):\n",
        "        return self.data_out(img)"
      ],
      "execution_count": null,
      "outputs": []
    },
    {
      "cell_type": "code",
      "metadata": {
        "id": "YOhiH1XaO6tJ"
      },
      "source": [
        "def main():\n",
        "    experiment.log_parameters(hyper_params)\n",
        "    net = CNNNet(in_channel=hyper_params[\"in_channel\"])\n",
        "    net.to(device)\n",
        "    optimizer = optim.Adam(net.parameters(),lr=hyper_params[\"learning_rate\"])\n",
        "    criterion = nn.CrossEntropyLoss()\n",
        "    trans = ImageTransform()\n",
        "    \n",
        "    #dataload\n",
        "    dtrain = torch.utils.data.DataLoader(\n",
        "        datasets.FashionMNIST('./data/fashion-mnist',train=True,download=True,transform=trans),\n",
        "        batch_size = hyper_params[\"batch_size\"],\n",
        "        shuffle = True\n",
        "    )\n",
        "    \n",
        "    dtest = torch.utils.data.DataLoader(\n",
        "        datasets.FashionMNIST('./data/fashion-mnist',train=False,download=True,transform=trans),\n",
        "        batch_size = hyper_params[\"batch_size\"],\n",
        "        shuffle = False\n",
        "    )\n",
        "    \n",
        "    loss_train = []\n",
        "    loss_test = []\n",
        "    acc_test = []\n",
        "\n",
        "    for epoch in range(1,hyper_params[\"num_epochs\"]+1):\n",
        "        batch_loss_train = []\n",
        "        batch_loss_test = []\n",
        "        correct = 0\n",
        "        total = 0\n",
        "        \n",
        "        #train\n",
        "        net.train()\n",
        "        for xbatch_train,tbatch_train in dtrain:\n",
        "            xbatch_train = xbatch_train.to(device)\n",
        "            tbatch_train = tbatch_train.to(device)\n",
        "            #Initialize grad\n",
        "            net.zero_grad()\n",
        "            ybatch_train = net.forward(xbatch_train)\n",
        "            lbatch_train = criterion(ybatch_train,tbatch_train)\n",
        "            lbatch_train.backward()\n",
        "            optimizer.step()\n",
        "            batch_loss_train.append(lbatch_train.tolist())\n",
        "            \n",
        "        net.eval()\n",
        "        for xbatch_test,tbatch_test in dtest:\n",
        "            xbatch_test = xbatch_test.to(device)\n",
        "            tbatch_test = tbatch_test.to(device)\n",
        "            ybatch_test = net.forward(xbatch_test)\n",
        "            lbatch_test = criterion(ybatch_test,tbatch_test)\n",
        "            batch_loss_test.append(lbatch_test.tolist())\n",
        "            \n",
        "            batch_label_test = ybatch_test.cpu().argmax(1).numpy()\n",
        "            tbatch_test = tbatch_test.cpu().numpy()\n",
        "            correct += np.sum((batch_label_test - tbatch_test) == 0)\n",
        "            total +=1\n",
        "            \n",
        "        loss_train.append(np.mean(batch_loss_train))\n",
        "        loss_test.append(np.mean(batch_loss_test))\n",
        "        acc_test_batch = correct/total\n",
        "        acc_test.append(acc_test_batch)\n",
        "        \n",
        "        print('EPOCH: {},TRAIN LOSS:{:.3f},TEST LOSS:{:.3f},TEST ACC:{:.3f}'.format(\n",
        "            epoch,\n",
        "            np.mean(loss_train),\n",
        "            np.mean(loss_test),\n",
        "            np.mean(acc_test)\n",
        "        ))\n",
        "\n",
        "\n",
        "    experiment.end()\n",
        "    \n",
        "    \n",
        "        \n",
        "            \n",
        "        \n",
        "            \n",
        "        \n",
        "        \n",
        "    \n",
        "    \n",
        "    "
      ],
      "execution_count": null,
      "outputs": []
    },
    {
      "cell_type": "code",
      "metadata": {
        "colab": {
          "base_uri": "https://localhost:8080/"
        },
        "id": "1GO6GczhO6tJ",
        "outputId": "c4108c95-aadd-4bb8-dd0a-3fd91824e736"
      },
      "source": [
        "if __name__ == '__main__':\n",
        "  main()"
      ],
      "execution_count": null,
      "outputs": [
        {
          "output_type": "stream",
          "text": [
            "EPOCH: 1,TRAIN LOSS:2.320,TEST LOSS:2.311,TEST ACC:100.000\n",
            "EPOCH: 2,TRAIN LOSS:2.321,TEST LOSS:2.331,TEST ACC:100.000\n",
            "EPOCH: 3,TRAIN LOSS:2.322,TEST LOSS:2.326,TEST ACC:100.000\n"
          ],
          "name": "stdout"
        },
        {
          "output_type": "stream",
          "text": [
            "COMET INFO: ---------------------------\n",
            "COMET INFO: Comet.ml Experiment Summary\n",
            "COMET INFO: ---------------------------\n",
            "COMET INFO:   Data:\n",
            "COMET INFO:     display_summary_level : 1\n",
            "COMET INFO:     url                   : https://www.comet.ml/yusuketakahashi2001/fashionmnist-practice/28db3b1c0d8645cc9c6326c138b05b00\n",
            "COMET INFO:   Metrics [count] (min, max):\n",
            "COMET INFO:     loss [7800] : (0.5005528330802917, 4.67109489440918)\n",
            "COMET INFO:   Uploads:\n",
            "COMET INFO:     code                : 1 (22 KB)\n",
            "COMET INFO:     environment details : 1\n",
            "COMET INFO:     filename            : 1\n",
            "COMET INFO:     installed packages  : 1\n",
            "COMET INFO:     model graph         : 1\n",
            "COMET INFO:     notebook            : 1\n",
            "COMET INFO:     os packages         : 1\n",
            "COMET INFO: ---------------------------\n"
          ],
          "name": "stderr"
        },
        {
          "output_type": "stream",
          "text": [
            "EPOCH: 4,TRAIN LOSS:2.322,TEST LOSS:2.326,TEST ACC:100.000\n"
          ],
          "name": "stdout"
        },
        {
          "output_type": "stream",
          "text": [
            "COMET INFO: Uploading stats to Comet before program termination (may take several seconds)\n"
          ],
          "name": "stderr"
        }
      ]
    },
    {
      "cell_type": "code",
      "metadata": {
        "id": "n9EXFymh94z9"
      },
      "source": [
        ""
      ],
      "execution_count": null,
      "outputs": []
    }
  ]
}