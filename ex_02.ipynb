{
  "nbformat": 4,
  "nbformat_minor": 0,
  "metadata": {
    "colab": {
      "name": "ex_02.ipynb",
      "provenance": [],
      "collapsed_sections": [],
      "authorship_tag": "ABX9TyN7l9SdvdZbT1BAq84NaSfY",
      "include_colab_link": true
    },
    "kernelspec": {
      "name": "python3",
      "display_name": "Python 3"
    },
    "accelerator": "GPU"
  },
  "cells": [
    {
      "cell_type": "markdown",
      "metadata": {
        "id": "view-in-github",
        "colab_type": "text"
      },
      "source": [
        "<a href=\"https://colab.research.google.com/github/YusukeTakahashi2001/Pytorch-Tutorial_Des2020/blob/main/ex_02.ipynb\" target=\"_parent\"><img src=\"https://colab.research.google.com/assets/colab-badge.svg\" alt=\"Open In Colab\"/></a>"
      ]
    },
    {
      "cell_type": "markdown",
      "metadata": {
        "id": "pjcRvajvb6Un"
      },
      "source": [
        "ERROR"
      ]
    },
    {
      "cell_type": "code",
      "metadata": {
        "colab": {
          "base_uri": "https://localhost:8080/"
        },
        "id": "a17n6t6WkrjQ",
        "outputId": "2f732d9d-98fc-4bad-f68b-490d148c2e93"
      },
      "source": [
        "from google.colab import drive\n",
        "drive.mount('/content/drive')\n",
        "%cd /content/drive/MyDrive/Colab Notebooks/IPhone-Macbook"
      ],
      "execution_count": 1,
      "outputs": [
        {
          "output_type": "stream",
          "text": [
            "Drive already mounted at /content/drive; to attempt to forcibly remount, call drive.mount(\"/content/drive\", force_remount=True).\n",
            "/content/drive/MyDrive/Colab Notebooks/IPhone-Macbook\n"
          ],
          "name": "stdout"
        }
      ]
    },
    {
      "cell_type": "code",
      "metadata": {
        "colab": {
          "base_uri": "https://localhost:8080/"
        },
        "id": "4xcgVvvdlLZB",
        "outputId": "9e2cb9a9-69e1-4558-950d-26c0d55a2a79"
      },
      "source": [
        "!pip install comet_ml\n",
        "from comet_ml import Experiment"
      ],
      "execution_count": 2,
      "outputs": [
        {
          "output_type": "stream",
          "text": [
            "Requirement already satisfied: comet_ml in /usr/local/lib/python3.6/dist-packages (3.2.7)\n",
            "Requirement already satisfied: nvidia-ml-py3>=7.352.0 in /usr/local/lib/python3.6/dist-packages (from comet_ml) (7.352.0)\n",
            "Requirement already satisfied: jsonschema!=3.1.0,>=2.6.0 in /usr/local/lib/python3.6/dist-packages (from comet_ml) (2.6.0)\n",
            "Requirement already satisfied: wurlitzer>=1.0.2 in /usr/local/lib/python3.6/dist-packages (from comet_ml) (2.0.1)\n",
            "Requirement already satisfied: wrapt>=1.11.2 in /usr/local/lib/python3.6/dist-packages (from comet_ml) (1.12.1)\n",
            "Requirement already satisfied: requests>=2.18.4 in /usr/local/lib/python3.6/dist-packages (from comet_ml) (2.23.0)\n",
            "Requirement already satisfied: six in /usr/local/lib/python3.6/dist-packages (from comet_ml) (1.15.0)\n",
            "Requirement already satisfied: netifaces>=0.10.7 in /usr/local/lib/python3.6/dist-packages (from comet_ml) (0.10.9)\n",
            "Requirement already satisfied: dulwich>=0.20.6; python_version >= \"3.0\" in /usr/local/lib/python3.6/dist-packages (from comet_ml) (0.20.14)\n",
            "Requirement already satisfied: websocket-client>=0.55.0 in /usr/local/lib/python3.6/dist-packages (from comet_ml) (0.57.0)\n",
            "Requirement already satisfied: everett[ini]>=1.0.1; python_version >= \"3.0\" in /usr/local/lib/python3.6/dist-packages (from comet_ml) (1.0.3)\n",
            "Requirement already satisfied: chardet<4,>=3.0.2 in /usr/local/lib/python3.6/dist-packages (from requests>=2.18.4->comet_ml) (3.0.4)\n",
            "Requirement already satisfied: urllib3!=1.25.0,!=1.25.1,<1.26,>=1.21.1 in /usr/local/lib/python3.6/dist-packages (from requests>=2.18.4->comet_ml) (1.24.3)\n",
            "Requirement already satisfied: certifi>=2017.4.17 in /usr/local/lib/python3.6/dist-packages (from requests>=2.18.4->comet_ml) (2020.11.8)\n",
            "Requirement already satisfied: idna<3,>=2.5 in /usr/local/lib/python3.6/dist-packages (from requests>=2.18.4->comet_ml) (2.10)\n",
            "Requirement already satisfied: configobj; extra == \"ini\" in /usr/local/lib/python3.6/dist-packages (from everett[ini]>=1.0.1; python_version >= \"3.0\"->comet_ml) (5.0.6)\n"
          ],
          "name": "stdout"
        }
      ]
    },
    {
      "cell_type": "code",
      "metadata": {
        "id": "KFygdpvelPIX"
      },
      "source": [
        "# パッケージのimport\n",
        "import numpy as np\n",
        "import random\n",
        "\n",
        "import torch\n",
        "import torch.nn as nn\n",
        "import torch.optim as optim\n",
        "\n",
        "from torchvision import models\n",
        "\n",
        "from tqdm import tqdm\n",
        "\n",
        "# 乱数のシードを設定\n",
        "torch.manual_seed(1234)\n",
        "np.random.seed(1234)\n",
        "random.seed(1234)"
      ],
      "execution_count": 3,
      "outputs": []
    },
    {
      "cell_type": "code",
      "metadata": {
        "colab": {
          "base_uri": "https://localhost:8080/"
        },
        "id": "I36dRKH7lS6G",
        "outputId": "33020bf5-1b7d-40f1-a0f6-f701c7a9b93b"
      },
      "source": [
        "experiment = Experiment(\n",
        "    api_key=\"1H4oWzrtQdGj3uKZIDjQomMQs\",\n",
        "    project_name=\"phone-classification\",\n",
        "    workspace=\"yusuketakahashi2001\",\n",
        ")\n"
      ],
      "execution_count": 4,
      "outputs": [
        {
          "output_type": "stream",
          "text": [
            "COMET INFO: Experiment is live on comet.ml https://www.comet.ml/yusuketakahashi2001/phone-classification/dcf0e1963236455b807cb6dcd7d11aa1\n",
            "\n"
          ],
          "name": "stderr"
        }
      ]
    },
    {
      "cell_type": "code",
      "metadata": {
        "id": "Xi_7KMlilV3C"
      },
      "source": [
        "#Create Dataset\n",
        "from utils.dataloader_image_classification import ImageTransform,make_datapath_list, Dataset"
      ],
      "execution_count": 5,
      "outputs": []
    },
    {
      "cell_type": "code",
      "metadata": {
        "colab": {
          "base_uri": "https://localhost:8080/"
        },
        "id": "ftOGUHrdlclJ",
        "outputId": "ecf11ce0-b748-40db-f48c-e15a677c8f35"
      },
      "source": [
        "train_list = make_datapath_list(phase=\"train\")\n",
        "val_list = make_datapath_list(phase=\"val\")\n",
        "\n",
        "# Datasetを作成する\n",
        "size = 600\n",
        "mean = (0.485, 0.456, 0.406)\n",
        "std = (0.229, 0.224, 0.225)\n",
        "train_dataset = Dataset(\n",
        "    file_list=train_list, transform=ImageTransform(size, mean, std), phase='train')\n",
        "\n",
        "val_dataset = Dataset(\n",
        "    file_list=val_list, transform=ImageTransform(size, mean, std), phase='val')\n",
        "\n",
        "\n",
        "# DataLoaderを作成する\n",
        "batch_size = hyper_params[\"batch_size\"]\n",
        "\n",
        "train_dataloader = torch.utils.data.DataLoader(\n",
        "    train_dataset, batch_size=batch_size, shuffle=True)\n",
        "\n",
        "val_dataloader = torch.utils.data.DataLoader(\n",
        "    val_dataset, batch_size=batch_size, shuffle=False)\n",
        "\n",
        "# 辞書オブジェクトにまとめる\n",
        "dataloaders_dict = {\"train\": train_dataloader, \"val\": val_dataloader}\n",
        "\n"
      ],
      "execution_count": 7,
      "outputs": [
        {
          "output_type": "stream",
          "text": [
            "./data/phone_data/train/**/*.jpg\n",
            "./data/phone_data/val/**/*.jpg\n"
          ],
          "name": "stdout"
        }
      ]
    },
    {
      "cell_type": "code",
      "metadata": {
        "colab": {
          "base_uri": "https://localhost:8080/"
        },
        "id": "Ajgh2q3sliU0",
        "outputId": "44a325f6-8d01-4e4f-9ba1-b528215d653f"
      },
      "source": [
        "# VGG-16モデルのインスタンスを生成\n",
        "use_pretrained = True  # 学習済みのパラメータを使用\n",
        "net = models.vgg16(pretrained=use_pretrained)\n",
        "\n",
        "# VGG16の最後の出力層の出力ユニットをアリとハチの2つに付け替える\n",
        "net.classifier[6] = nn.Linear(in_features=4096, out_features=2)\n",
        "\n",
        "# 訓練モードに設定\n",
        "net.train()\n",
        "print('ネットワーク設定完了：学習済みの重みをロードし、訓練モードに設定しました')\n"
      ],
      "execution_count": 8,
      "outputs": [
        {
          "output_type": "stream",
          "text": [
            "ネットワーク設定完了：学習済みの重みをロードし、訓練モードに設定しました\n"
          ],
          "name": "stdout"
        }
      ]
    },
    {
      "cell_type": "code",
      "metadata": {
        "colab": {
          "base_uri": "https://localhost:8080/"
        },
        "id": "lI8ayrBillnp",
        "outputId": "99aeb5db-a9ca-4348-cba6-c1e9a644a1d7"
      },
      "source": [
        "# ファインチューニングで学習させるパラメータを、変数params_to_updateの1～3に格納する\n",
        "\n",
        "params_to_update_1 = []\n",
        "params_to_update_2 = []\n",
        "params_to_update_3 = []\n",
        "\n",
        "# 学習させる層のパラメータ名を指定\n",
        "update_param_names_1 = [\"features\"]\n",
        "update_param_names_2 = [\"classifier.0.weight\",\n",
        "                        \"classifier.0.bias\", \"classifier.3.weight\", \"classifier.3.bias\"]\n",
        "update_param_names_3 = [\"classifier.6.weight\", \"classifier.6.bias\"]\n",
        "\n",
        "# パラメータごとに各リストに格納する\n",
        "for name, param in net.named_parameters():\n",
        "    if update_param_names_1[0] in name:\n",
        "        param.requires_grad = True\n",
        "        params_to_update_1.append(param)\n",
        "        print(\"params_to_update_1に格納：\", name)\n",
        "\n",
        "    elif name in update_param_names_2:\n",
        "        param.requires_grad = True\n",
        "        params_to_update_2.append(param)\n",
        "        print(\"params_to_update_2に格納：\", name)\n",
        "\n",
        "    elif name in update_param_names_3:\n",
        "        param.requires_grad = True\n",
        "        params_to_update_3.append(param)\n",
        "        print(\"params_to_update_3に格納：\", name)\n",
        "\n",
        "    else:\n",
        "        param.requires_grad = False\n",
        "        print(\"勾配計算なし。学習しない：\", name)"
      ],
      "execution_count": 9,
      "outputs": [
        {
          "output_type": "stream",
          "text": [
            "params_to_update_1に格納： features.0.weight\n",
            "params_to_update_1に格納： features.0.bias\n",
            "params_to_update_1に格納： features.2.weight\n",
            "params_to_update_1に格納： features.2.bias\n",
            "params_to_update_1に格納： features.5.weight\n",
            "params_to_update_1に格納： features.5.bias\n",
            "params_to_update_1に格納： features.7.weight\n",
            "params_to_update_1に格納： features.7.bias\n",
            "params_to_update_1に格納： features.10.weight\n",
            "params_to_update_1に格納： features.10.bias\n",
            "params_to_update_1に格納： features.12.weight\n",
            "params_to_update_1に格納： features.12.bias\n",
            "params_to_update_1に格納： features.14.weight\n",
            "params_to_update_1に格納： features.14.bias\n",
            "params_to_update_1に格納： features.17.weight\n",
            "params_to_update_1に格納： features.17.bias\n",
            "params_to_update_1に格納： features.19.weight\n",
            "params_to_update_1に格納： features.19.bias\n",
            "params_to_update_1に格納： features.21.weight\n",
            "params_to_update_1に格納： features.21.bias\n",
            "params_to_update_1に格納： features.24.weight\n",
            "params_to_update_1に格納： features.24.bias\n",
            "params_to_update_1に格納： features.26.weight\n",
            "params_to_update_1に格納： features.26.bias\n",
            "params_to_update_1に格納： features.28.weight\n",
            "params_to_update_1に格納： features.28.bias\n",
            "params_to_update_2に格納： classifier.0.weight\n",
            "params_to_update_2に格納： classifier.0.bias\n",
            "params_to_update_2に格納： classifier.3.weight\n",
            "params_to_update_2に格納： classifier.3.bias\n",
            "params_to_update_3に格納： classifier.6.weight\n",
            "params_to_update_3に格納： classifier.6.bias\n"
          ],
          "name": "stdout"
        }
      ]
    },
    {
      "cell_type": "code",
      "metadata": {
        "id": "4KEO7lGCljAK"
      },
      "source": [
        "# 損失関数の設定\n",
        "criterion = nn.CrossEntropyLoss()\n",
        "optimizer = optim.SGD([\n",
        "    {'params': params_to_update_1, 'lr': 1e-4},\n",
        "    {'params': params_to_update_2, 'lr': 5e-4},\n",
        "    {'params': params_to_update_3, 'lr': 1e-3}\n",
        "], momentum=0.9)\n"
      ],
      "execution_count": 10,
      "outputs": []
    },
    {
      "cell_type": "code",
      "metadata": {
        "id": "QGoakEJ8ltwk"
      },
      "source": [
        "# モデルを学習させる関数を作成\n",
        "\n",
        "\n",
        "def train_model(net, dataloaders_dict, criterion, optimizer):\n",
        "\n",
        "    # 初期設定\n",
        "    num_epochs = hyper_params[\"num_epochs\"]\n",
        "    # GPUが使えるかを確認\n",
        "    device = torch.device('cuda' if torch.cuda.is_available() else 'cpu')\n",
        "    print(\"使用デバイス：\", device)\n",
        "\n",
        "    # ネットワークをGPUへ\n",
        "    net.to(device)\n",
        "\n",
        "    # ネットワークがある程度固定であれば、高速化させる\n",
        "    torch.backends.cudnn.benchmark = True\n",
        "\n",
        "    # epochのループ\n",
        "    for epoch in range(num_epochs):\n",
        "        print('Epoch {}/{}'.format(epoch+1, num_epochs))\n",
        "        print('-------------')\n",
        "\n",
        "        # epochごとの訓練と検証のループ\n",
        "        for phase in [ 'train','val']:\n",
        "            if phase == 'train':\n",
        "                net.train()  # モデルを訓練モードに\n",
        "            else:\n",
        "                net.eval()   # モデルを検証モードに\n",
        "\n",
        "            epoch_loss = 0.0  # epochの損失和\n",
        "            epoch_corrects = 0  # epochの正解数\n",
        "            class_correct = [0, 0]\n",
        "            class_total = [0, 0]\n",
        "      \n",
        "            # 未学習時の検証性能を確かめるため、epoch=0の訓練は省略\n",
        "            if (epoch == 0) and (phase == 'train'):\n",
        "                continue\n",
        "\n",
        "            # データローダーからミニバッチを取り出すループ\n",
        "            for inputs, labels in tqdm(dataloaders_dict[phase]):\n",
        "\n",
        "                # GPUが使えるならGPUにデータを送る\n",
        "                inputs = inputs.to(device)\n",
        "                labels = labels.to(device)\n",
        "                \n",
        "                # optimizerを初期化\n",
        "                optimizer.zero_grad()\n",
        "                             \n",
        "\n",
        "                # 順伝搬（forward）計算\n",
        "                with torch.set_grad_enabled(phase == 'train'):\n",
        "                    outputs = net(inputs)\n",
        "                    loss = criterion(outputs, labels)  # 損失を計算\n",
        "                    _, preds = torch.max(outputs, 1)  # ラベルを予測\n",
        "\n",
        "                    \n",
        "                    # 訓練時はバックプロパゲーション\n",
        "                    if phase == 'train':\n",
        "                        loss.backward()\n",
        "                        optimizer.step()\n",
        "\n",
        "                    # 結果の計算\n",
        "                    epoch_loss += loss.item() * inputs.size(0)  # lossの合計を更新\n",
        "                    # 正解数の合計を更新\n",
        "                    epoch_corrects += torch.sum(preds == labels.data)\n",
        "\n",
        "\n",
        "                for batch_id in range(labels.shape[0]):\n",
        "                  \n",
        "                  target_label = int(labels.data[batch_id])\n",
        "                  pred_label = int(preds.data[batch_id])\n",
        "                  if target_label == 0 and target_label == pred_label:\n",
        "                    class_correct[0] += 1\n",
        "                    class_total[0] += 1\n",
        "                  if target_label == 1 and target_label == pred_label:\n",
        "                    class_correct[1] += 1\n",
        "                    class_total[1] += 1\n",
        "\n",
        "\n",
        "                \n",
        "            \n",
        "\n",
        "            # epochごとのlossと正解率をcomet_mlに格納\n",
        "            metrics = {}\n",
        "            if phase == 'train':\n",
        "              metrics['train_loss'] = epoch_loss / len(dataloaders_dict[phase].dataset)\n",
        "              metrics['train_acc']  = epoch_corrects.double() / len(dataloaders_dict[phase].dataset)\n",
        "              metrics['train_normal_acc'] = class_correct[0]/class_total[0] *100\n",
        "              metrics['train_broken_acc'] = class_correct[1]/class_total[1] *100\n",
        "          \n",
        "\n",
        "            elif phase == 'val':\n",
        "              metrics['test_loss']  =  epoch_loss / len(dataloaders_dict[phase].dataset)\n",
        "              metrics['test_acc']  = epoch_acc = epoch_corrects.double() / len(dataloaders_dict[phase].dataset)\n",
        "              metrics['test_normal_acc'] = class_correct[0]/class_total[0] *100\n",
        "              metrics['test_broken_acc'] = class_correct[1]/class_total[1] *100\n",
        "          \n",
        "              \n",
        "              \n",
        "\n",
        "\n",
        "\n",
        "            experiment.log_metrics(metrics, step=epoch)\n",
        "            \n",
        "    experiment.end()\n",
        "    # PyTorchのネットワークパラメータの保存\n",
        "    save_path = './saveweight/weights_fine_tuning.pth'\n",
        "    torch.save(net.state_dict(), save_path)\n",
        "    for i in range(2):\n",
        "      print('{}/{} ({:.2f})'.format(class_correct[i], class_total[i], class_correct[i]/class_total[i]*100)) \n",
        "    print('Finish')\n"
      ],
      "execution_count": 14,
      "outputs": []
    },
    {
      "cell_type": "code",
      "metadata": {
        "id": "LODsQTimlZ2U"
      },
      "source": [
        "hyper_params = {\n",
        "    \"batch_size\": 4,\n",
        "    \"num_epochs\": 5,\n",
        "}\n",
        "experiment.log_parameters(hyper_params)"
      ],
      "execution_count": 6,
      "outputs": []
    },
    {
      "cell_type": "code",
      "metadata": {
        "id": "6Lq36LYLxYyf"
      },
      "source": [
        "# 学習・検証を実行する\n",
        "train_model(net, dataloaders_dict, criterion, optimizer)"
      ],
      "execution_count": null,
      "outputs": []
    },
    {
      "cell_type": "code",
      "metadata": {
        "id": "LG1vdFyQW1Ns"
      },
      "source": [
        ""
      ],
      "execution_count": null,
      "outputs": []
    }
  ]
}