{
  "nbformat": 4,
  "nbformat_minor": 0,
  "metadata": {
    "colab": {
      "name": "ex_02.ipynb",
      "provenance": [],
      "collapsed_sections": [],
      "authorship_tag": "ABX9TyPWtD8nslvVXF4SqhtNiAAD",
      "include_colab_link": true
    },
    "kernelspec": {
      "name": "python3",
      "display_name": "Python 3"
    },
    "accelerator": "GPU",
    "widgets": {
      "application/vnd.jupyter.widget-state+json": {
        "6db2ffda0cbc4ab3a47b04bf7486561d": {
          "model_module": "@jupyter-widgets/controls",
          "model_name": "HBoxModel",
          "state": {
            "_view_name": "HBoxView",
            "_dom_classes": [],
            "_model_name": "HBoxModel",
            "_view_module": "@jupyter-widgets/controls",
            "_model_module_version": "1.5.0",
            "_view_count": null,
            "_view_module_version": "1.5.0",
            "box_style": "",
            "layout": "IPY_MODEL_22b34536cfac4636882669755416dc71",
            "_model_module": "@jupyter-widgets/controls",
            "children": [
              "IPY_MODEL_9f09f491dcf64bbaa356c3b582b3bf0d",
              "IPY_MODEL_82a0b79e560a442d86a6bf9d6d068d78"
            ]
          }
        },
        "22b34536cfac4636882669755416dc71": {
          "model_module": "@jupyter-widgets/base",
          "model_name": "LayoutModel",
          "state": {
            "_view_name": "LayoutView",
            "grid_template_rows": null,
            "right": null,
            "justify_content": null,
            "_view_module": "@jupyter-widgets/base",
            "overflow": null,
            "_model_module_version": "1.2.0",
            "_view_count": null,
            "flex_flow": null,
            "width": null,
            "min_width": null,
            "border": null,
            "align_items": null,
            "bottom": null,
            "_model_module": "@jupyter-widgets/base",
            "top": null,
            "grid_column": null,
            "overflow_y": null,
            "overflow_x": null,
            "grid_auto_flow": null,
            "grid_area": null,
            "grid_template_columns": null,
            "flex": null,
            "_model_name": "LayoutModel",
            "justify_items": null,
            "grid_row": null,
            "max_height": null,
            "align_content": null,
            "visibility": null,
            "align_self": null,
            "height": null,
            "min_height": null,
            "padding": null,
            "grid_auto_rows": null,
            "grid_gap": null,
            "max_width": null,
            "order": null,
            "_view_module_version": "1.2.0",
            "grid_template_areas": null,
            "object_position": null,
            "object_fit": null,
            "grid_auto_columns": null,
            "margin": null,
            "display": null,
            "left": null
          }
        },
        "9f09f491dcf64bbaa356c3b582b3bf0d": {
          "model_module": "@jupyter-widgets/controls",
          "model_name": "FloatProgressModel",
          "state": {
            "_view_name": "ProgressView",
            "style": "IPY_MODEL_4d90f4468d12444e93f071cc1bc845d7",
            "_dom_classes": [],
            "description": "100%",
            "_model_name": "FloatProgressModel",
            "bar_style": "success",
            "max": 553433881,
            "_view_module": "@jupyter-widgets/controls",
            "_model_module_version": "1.5.0",
            "value": 553433881,
            "_view_count": null,
            "_view_module_version": "1.5.0",
            "orientation": "horizontal",
            "min": 0,
            "description_tooltip": null,
            "_model_module": "@jupyter-widgets/controls",
            "layout": "IPY_MODEL_53879d9dbd9b47ebbebafe188fdf3bed"
          }
        },
        "82a0b79e560a442d86a6bf9d6d068d78": {
          "model_module": "@jupyter-widgets/controls",
          "model_name": "HTMLModel",
          "state": {
            "_view_name": "HTMLView",
            "style": "IPY_MODEL_680ada98473e4ffeb114219d84402b16",
            "_dom_classes": [],
            "description": "",
            "_model_name": "HTMLModel",
            "placeholder": "​",
            "_view_module": "@jupyter-widgets/controls",
            "_model_module_version": "1.5.0",
            "value": " 528M/528M [02:20&lt;00:00, 3.94MB/s]",
            "_view_count": null,
            "_view_module_version": "1.5.0",
            "description_tooltip": null,
            "_model_module": "@jupyter-widgets/controls",
            "layout": "IPY_MODEL_94a9ab89a365459bb07aa13a6af08344"
          }
        },
        "4d90f4468d12444e93f071cc1bc845d7": {
          "model_module": "@jupyter-widgets/controls",
          "model_name": "ProgressStyleModel",
          "state": {
            "_view_name": "StyleView",
            "_model_name": "ProgressStyleModel",
            "description_width": "initial",
            "_view_module": "@jupyter-widgets/base",
            "_model_module_version": "1.5.0",
            "_view_count": null,
            "_view_module_version": "1.2.0",
            "bar_color": null,
            "_model_module": "@jupyter-widgets/controls"
          }
        },
        "53879d9dbd9b47ebbebafe188fdf3bed": {
          "model_module": "@jupyter-widgets/base",
          "model_name": "LayoutModel",
          "state": {
            "_view_name": "LayoutView",
            "grid_template_rows": null,
            "right": null,
            "justify_content": null,
            "_view_module": "@jupyter-widgets/base",
            "overflow": null,
            "_model_module_version": "1.2.0",
            "_view_count": null,
            "flex_flow": null,
            "width": null,
            "min_width": null,
            "border": null,
            "align_items": null,
            "bottom": null,
            "_model_module": "@jupyter-widgets/base",
            "top": null,
            "grid_column": null,
            "overflow_y": null,
            "overflow_x": null,
            "grid_auto_flow": null,
            "grid_area": null,
            "grid_template_columns": null,
            "flex": null,
            "_model_name": "LayoutModel",
            "justify_items": null,
            "grid_row": null,
            "max_height": null,
            "align_content": null,
            "visibility": null,
            "align_self": null,
            "height": null,
            "min_height": null,
            "padding": null,
            "grid_auto_rows": null,
            "grid_gap": null,
            "max_width": null,
            "order": null,
            "_view_module_version": "1.2.0",
            "grid_template_areas": null,
            "object_position": null,
            "object_fit": null,
            "grid_auto_columns": null,
            "margin": null,
            "display": null,
            "left": null
          }
        },
        "680ada98473e4ffeb114219d84402b16": {
          "model_module": "@jupyter-widgets/controls",
          "model_name": "DescriptionStyleModel",
          "state": {
            "_view_name": "StyleView",
            "_model_name": "DescriptionStyleModel",
            "description_width": "",
            "_view_module": "@jupyter-widgets/base",
            "_model_module_version": "1.5.0",
            "_view_count": null,
            "_view_module_version": "1.2.0",
            "_model_module": "@jupyter-widgets/controls"
          }
        },
        "94a9ab89a365459bb07aa13a6af08344": {
          "model_module": "@jupyter-widgets/base",
          "model_name": "LayoutModel",
          "state": {
            "_view_name": "LayoutView",
            "grid_template_rows": null,
            "right": null,
            "justify_content": null,
            "_view_module": "@jupyter-widgets/base",
            "overflow": null,
            "_model_module_version": "1.2.0",
            "_view_count": null,
            "flex_flow": null,
            "width": null,
            "min_width": null,
            "border": null,
            "align_items": null,
            "bottom": null,
            "_model_module": "@jupyter-widgets/base",
            "top": null,
            "grid_column": null,
            "overflow_y": null,
            "overflow_x": null,
            "grid_auto_flow": null,
            "grid_area": null,
            "grid_template_columns": null,
            "flex": null,
            "_model_name": "LayoutModel",
            "justify_items": null,
            "grid_row": null,
            "max_height": null,
            "align_content": null,
            "visibility": null,
            "align_self": null,
            "height": null,
            "min_height": null,
            "padding": null,
            "grid_auto_rows": null,
            "grid_gap": null,
            "max_width": null,
            "order": null,
            "_view_module_version": "1.2.0",
            "grid_template_areas": null,
            "object_position": null,
            "object_fit": null,
            "grid_auto_columns": null,
            "margin": null,
            "display": null,
            "left": null
          }
        }
      }
    }
  },
  "cells": [
    {
      "cell_type": "markdown",
      "metadata": {
        "id": "view-in-github",
        "colab_type": "text"
      },
      "source": [
        "<a href=\"https://colab.research.google.com/github/YusukeTakahashi2001/Pytorch-Tutorial_Des2020/blob/main/ex_02.ipynb\" target=\"_parent\"><img src=\"https://colab.research.google.com/assets/colab-badge.svg\" alt=\"Open In Colab\"/></a>"
      ]
    },
    {
      "cell_type": "markdown",
      "metadata": {
        "id": "pjcRvajvb6Un"
      },
      "source": [
        "ERROR"
      ]
    },
    {
      "cell_type": "code",
      "metadata": {
        "colab": {
          "base_uri": "https://localhost:8080/"
        },
        "id": "a17n6t6WkrjQ",
        "outputId": "2572d8a8-74c2-4881-dfb3-b1b8041d2692"
      },
      "source": [
        "from google.colab import drive\n",
        "drive.mount('/content/drive')\n",
        "%cd /content/drive/MyDrive/Colab Notebooks/IPhone-Macbook"
      ],
      "execution_count": 2,
      "outputs": [
        {
          "output_type": "stream",
          "text": [
            "Mounted at /content/drive\n",
            "/content/drive/MyDrive/Colab Notebooks/IPhone-Macbook\n"
          ],
          "name": "stdout"
        }
      ]
    },
    {
      "cell_type": "code",
      "metadata": {
        "colab": {
          "base_uri": "https://localhost:8080/"
        },
        "id": "4xcgVvvdlLZB",
        "outputId": "cd2ba15b-593b-417c-8482-8b0d40e12ba7"
      },
      "source": [
        "!pip install comet_ml\n",
        "from comet_ml import Experiment"
      ],
      "execution_count": 3,
      "outputs": [
        {
          "output_type": "stream",
          "text": [
            "Collecting comet_ml\n",
            "\u001b[?25l  Downloading https://files.pythonhosted.org/packages/af/44/6c1ce8027dd4a238ffb229df2711ace468df670040ce7aaba08382530979/comet_ml-3.2.7-py2.py3-none-any.whl (237kB)\n",
            "\u001b[K     |████████████████████████████████| 245kB 7.5MB/s \n",
            "\u001b[?25hCollecting dulwich>=0.20.6; python_version >= \"3.0\"\n",
            "\u001b[?25l  Downloading https://files.pythonhosted.org/packages/1e/3e/b5ee0d62282190a2937cde50bd7744318ffbd688146953f6305ccfb73274/dulwich-0.20.14-cp36-cp36m-manylinux2010_x86_64.whl (501kB)\n",
            "\u001b[K     |████████████████████████████████| 512kB 12.1MB/s \n",
            "\u001b[?25hRequirement already satisfied: wrapt>=1.11.2 in /usr/local/lib/python3.6/dist-packages (from comet_ml) (1.12.1)\n",
            "Collecting wurlitzer>=1.0.2\n",
            "  Downloading https://files.pythonhosted.org/packages/0c/1e/52f4effa64a447c4ec0fb71222799e2ac32c55b4b6c1725fccdf6123146e/wurlitzer-2.0.1-py2.py3-none-any.whl\n",
            "Collecting netifaces>=0.10.7\n",
            "  Downloading https://files.pythonhosted.org/packages/0c/9b/c4c7eb09189548d45939a3d3a6b3d53979c67d124459b27a094c365c347f/netifaces-0.10.9-cp36-cp36m-manylinux1_x86_64.whl\n",
            "Requirement already satisfied: six in /usr/local/lib/python3.6/dist-packages (from comet_ml) (1.15.0)\n",
            "Requirement already satisfied: requests>=2.18.4 in /usr/local/lib/python3.6/dist-packages (from comet_ml) (2.23.0)\n",
            "Collecting websocket-client>=0.55.0\n",
            "\u001b[?25l  Downloading https://files.pythonhosted.org/packages/4c/5f/f61b420143ed1c8dc69f9eaec5ff1ac36109d52c80de49d66e0c36c3dfdf/websocket_client-0.57.0-py2.py3-none-any.whl (200kB)\n",
            "\u001b[K     |████████████████████████████████| 204kB 15.5MB/s \n",
            "\u001b[?25hRequirement already satisfied: nvidia-ml-py3>=7.352.0 in /usr/local/lib/python3.6/dist-packages (from comet_ml) (7.352.0)\n",
            "Requirement already satisfied: jsonschema!=3.1.0,>=2.6.0 in /usr/local/lib/python3.6/dist-packages (from comet_ml) (2.6.0)\n",
            "Collecting everett[ini]>=1.0.1; python_version >= \"3.0\"\n",
            "  Downloading https://files.pythonhosted.org/packages/fe/dc/38593280ec30fe1cb2611ec65554b76b68d13582bf490113e3332cdd85ea/everett-1.0.3-py2.py3-none-any.whl\n",
            "Requirement already satisfied: certifi in /usr/local/lib/python3.6/dist-packages (from dulwich>=0.20.6; python_version >= \"3.0\"->comet_ml) (2020.11.8)\n",
            "Requirement already satisfied: urllib3>=1.24.1 in /usr/local/lib/python3.6/dist-packages (from dulwich>=0.20.6; python_version >= \"3.0\"->comet_ml) (1.24.3)\n",
            "Requirement already satisfied: chardet<4,>=3.0.2 in /usr/local/lib/python3.6/dist-packages (from requests>=2.18.4->comet_ml) (3.0.4)\n",
            "Requirement already satisfied: idna<3,>=2.5 in /usr/local/lib/python3.6/dist-packages (from requests>=2.18.4->comet_ml) (2.10)\n",
            "Collecting configobj; extra == \"ini\"\n",
            "  Downloading https://files.pythonhosted.org/packages/64/61/079eb60459c44929e684fa7d9e2fdca403f67d64dd9dbac27296be2e0fab/configobj-5.0.6.tar.gz\n",
            "Building wheels for collected packages: configobj\n",
            "  Building wheel for configobj (setup.py) ... \u001b[?25l\u001b[?25hdone\n",
            "  Created wheel for configobj: filename=configobj-5.0.6-cp36-none-any.whl size=34547 sha256=dc14882e4861ced5775d8c9644a5cdf4118d762baeb7334b95a3a9f5de41101d\n",
            "  Stored in directory: /root/.cache/pip/wheels/f1/e4/16/4981ca97c2d65106b49861e0b35e2660695be7219a2d351ee0\n",
            "Successfully built configobj\n",
            "Installing collected packages: dulwich, wurlitzer, netifaces, websocket-client, configobj, everett, comet-ml\n",
            "Successfully installed comet-ml-3.2.7 configobj-5.0.6 dulwich-0.20.14 everett-1.0.3 netifaces-0.10.9 websocket-client-0.57.0 wurlitzer-2.0.1\n"
          ],
          "name": "stdout"
        }
      ]
    },
    {
      "cell_type": "code",
      "metadata": {
        "id": "KFygdpvelPIX"
      },
      "source": [
        "# パッケージのimport\n",
        "import numpy as np\n",
        "import random\n",
        "\n",
        "import torch\n",
        "import torch.nn as nn\n",
        "import torch.optim as optim\n",
        "\n",
        "from torchvision import models\n",
        "\n",
        "from tqdm import tqdm\n",
        "\n",
        "# 乱数のシードを設定\n",
        "torch.manual_seed(1234)\n",
        "np.random.seed(1234)\n",
        "random.seed(1234)"
      ],
      "execution_count": 4,
      "outputs": []
    },
    {
      "cell_type": "code",
      "metadata": {
        "colab": {
          "base_uri": "https://localhost:8080/"
        },
        "id": "I36dRKH7lS6G",
        "outputId": "95f025af-b4be-4082-80ad-8d14f99c4ad1"
      },
      "source": [
        "experiment = Experiment(\n",
        "    api_key=\"1H4oWzrtQdGj3uKZIDjQomMQs\",\n",
        "    project_name=\"phone-classification\",\n",
        "    workspace=\"yusuketakahashi2001\",\n",
        ")\n"
      ],
      "execution_count": 5,
      "outputs": [
        {
          "output_type": "stream",
          "text": [
            "COMET INFO: Experiment is live on comet.ml https://www.comet.ml/yusuketakahashi2001/phone-classification/0bd4956aedad46dcbd1e86cec3435c91\n",
            "\n"
          ],
          "name": "stderr"
        }
      ]
    },
    {
      "cell_type": "code",
      "metadata": {
        "id": "Xi_7KMlilV3C"
      },
      "source": [
        "#Create Dataset\n",
        "from utils.dataloader_image_classification import ImageTransform,make_datapath_list, Dataset"
      ],
      "execution_count": 6,
      "outputs": []
    },
    {
      "cell_type": "code",
      "metadata": {
        "id": "LODsQTimlZ2U"
      },
      "source": [
        "hyper_params = {\n",
        "    \"batch_size\": 4,\n",
        "    \"num_epochs\": 5,\n",
        "}\n",
        "experiment.log_parameters(hyper_params)"
      ],
      "execution_count": 7,
      "outputs": []
    },
    {
      "cell_type": "code",
      "metadata": {
        "colab": {
          "base_uri": "https://localhost:8080/"
        },
        "id": "ftOGUHrdlclJ",
        "outputId": "d267b210-1e0b-44d6-a6c4-682976feacda"
      },
      "source": [
        "train_list = make_datapath_list(phase=\"train\")\n",
        "val_list = make_datapath_list(phase=\"val\")\n",
        "\n",
        "# Datasetを作成する\n",
        "size = 600\n",
        "mean = (0.485, 0.456, 0.406)\n",
        "std = (0.229, 0.224, 0.225)\n",
        "train_dataset = Dataset(\n",
        "    file_list=train_list, transform=ImageTransform(size, mean, std), phase='train')\n",
        "\n",
        "val_dataset = Dataset(\n",
        "    file_list=val_list, transform=ImageTransform(size, mean, std), phase='val')\n",
        "\n",
        "\n",
        "# DataLoaderを作成する\n",
        "batch_size = hyper_params[\"batch_size\"]\n",
        "\n",
        "train_dataloader = torch.utils.data.DataLoader(\n",
        "    train_dataset, batch_size=batch_size, shuffle=True)\n",
        "\n",
        "val_dataloader = torch.utils.data.DataLoader(\n",
        "    val_dataset, batch_size=batch_size, shuffle=False)\n",
        "\n",
        "# 辞書オブジェクトにまとめる\n",
        "dataloaders_dict = {\"train\": train_dataloader, \"val\": val_dataloader}\n",
        "\n"
      ],
      "execution_count": 8,
      "outputs": [
        {
          "output_type": "stream",
          "text": [
            "./data/phone_data/train/**/*.jpg\n",
            "./data/phone_data/val/**/*.jpg\n"
          ],
          "name": "stdout"
        }
      ]
    },
    {
      "cell_type": "code",
      "metadata": {
        "colab": {
          "base_uri": "https://localhost:8080/",
          "height": 97,
          "referenced_widgets": [
            "6db2ffda0cbc4ab3a47b04bf7486561d",
            "22b34536cfac4636882669755416dc71",
            "9f09f491dcf64bbaa356c3b582b3bf0d",
            "82a0b79e560a442d86a6bf9d6d068d78",
            "4d90f4468d12444e93f071cc1bc845d7",
            "53879d9dbd9b47ebbebafe188fdf3bed",
            "680ada98473e4ffeb114219d84402b16",
            "94a9ab89a365459bb07aa13a6af08344"
          ]
        },
        "id": "Ajgh2q3sliU0",
        "outputId": "eff447a0-56d4-4a3e-ca87-34c1957a505d"
      },
      "source": [
        "# VGG-16モデルのインスタンスを生成\n",
        "use_pretrained = True  # 学習済みのパラメータを使用\n",
        "net = models.vgg16(pretrained=use_pretrained)\n",
        "\n",
        "# VGG16の最後の出力層の出力ユニットをアリとハチの2つに付け替える\n",
        "net.classifier[6] = nn.Linear(in_features=4096, out_features=2)\n",
        "\n",
        "# 訓練モードに設定\n",
        "net.train()\n",
        "print('ネットワーク設定完了：学習済みの重みをロードし、訓練モードに設定しました')\n"
      ],
      "execution_count": 9,
      "outputs": [
        {
          "output_type": "stream",
          "text": [
            "Downloading: \"https://download.pytorch.org/models/vgg16-397923af.pth\" to /root/.cache/torch/hub/checkpoints/vgg16-397923af.pth\n"
          ],
          "name": "stderr"
        },
        {
          "output_type": "display_data",
          "data": {
            "application/vnd.jupyter.widget-view+json": {
              "model_id": "6db2ffda0cbc4ab3a47b04bf7486561d",
              "version_minor": 0,
              "version_major": 2
            },
            "text/plain": [
              "HBox(children=(FloatProgress(value=0.0, max=553433881.0), HTML(value='')))"
            ]
          },
          "metadata": {
            "tags": []
          }
        },
        {
          "output_type": "stream",
          "text": [
            "\n",
            "ネットワーク設定完了：学習済みの重みをロードし、訓練モードに設定しました\n"
          ],
          "name": "stdout"
        }
      ]
    },
    {
      "cell_type": "code",
      "metadata": {
        "colab": {
          "base_uri": "https://localhost:8080/"
        },
        "id": "lI8ayrBillnp",
        "outputId": "9981fd96-9661-4082-b82e-de5442dc9fa1"
      },
      "source": [
        "# ファインチューニングで学習させるパラメータを、変数params_to_updateの1～3に格納する\n",
        "\n",
        "params_to_update_1 = []\n",
        "params_to_update_2 = []\n",
        "params_to_update_3 = []\n",
        "\n",
        "# 学習させる層のパラメータ名を指定\n",
        "update_param_names_1 = [\"features\"]\n",
        "update_param_names_2 = [\"classifier.0.weight\",\n",
        "                        \"classifier.0.bias\", \"classifier.3.weight\", \"classifier.3.bias\"]\n",
        "update_param_names_3 = [\"classifier.6.weight\", \"classifier.6.bias\"]\n",
        "\n",
        "# パラメータごとに各リストに格納する\n",
        "for name, param in net.named_parameters():\n",
        "    if update_param_names_1[0] in name:\n",
        "        param.requires_grad = True\n",
        "        params_to_update_1.append(param)\n",
        "        print(\"params_to_update_1に格納：\", name)\n",
        "\n",
        "    elif name in update_param_names_2:\n",
        "        param.requires_grad = True\n",
        "        params_to_update_2.append(param)\n",
        "        print(\"params_to_update_2に格納：\", name)\n",
        "\n",
        "    elif name in update_param_names_3:\n",
        "        param.requires_grad = True\n",
        "        params_to_update_3.append(param)\n",
        "        print(\"params_to_update_3に格納：\", name)\n",
        "\n",
        "    else:\n",
        "        param.requires_grad = False\n",
        "        print(\"勾配計算なし。学習しない：\", name)"
      ],
      "execution_count": 10,
      "outputs": [
        {
          "output_type": "stream",
          "text": [
            "params_to_update_1に格納： features.0.weight\n",
            "params_to_update_1に格納： features.0.bias\n",
            "params_to_update_1に格納： features.2.weight\n",
            "params_to_update_1に格納： features.2.bias\n",
            "params_to_update_1に格納： features.5.weight\n",
            "params_to_update_1に格納： features.5.bias\n",
            "params_to_update_1に格納： features.7.weight\n",
            "params_to_update_1に格納： features.7.bias\n",
            "params_to_update_1に格納： features.10.weight\n",
            "params_to_update_1に格納： features.10.bias\n",
            "params_to_update_1に格納： features.12.weight\n",
            "params_to_update_1に格納： features.12.bias\n",
            "params_to_update_1に格納： features.14.weight\n",
            "params_to_update_1に格納： features.14.bias\n",
            "params_to_update_1に格納： features.17.weight\n",
            "params_to_update_1に格納： features.17.bias\n",
            "params_to_update_1に格納： features.19.weight\n",
            "params_to_update_1に格納： features.19.bias\n",
            "params_to_update_1に格納： features.21.weight\n",
            "params_to_update_1に格納： features.21.bias\n",
            "params_to_update_1に格納： features.24.weight\n",
            "params_to_update_1に格納： features.24.bias\n",
            "params_to_update_1に格納： features.26.weight\n",
            "params_to_update_1に格納： features.26.bias\n",
            "params_to_update_1に格納： features.28.weight\n",
            "params_to_update_1に格納： features.28.bias\n",
            "params_to_update_2に格納： classifier.0.weight\n",
            "params_to_update_2に格納： classifier.0.bias\n",
            "params_to_update_2に格納： classifier.3.weight\n",
            "params_to_update_2に格納： classifier.3.bias\n",
            "params_to_update_3に格納： classifier.6.weight\n",
            "params_to_update_3に格納： classifier.6.bias\n"
          ],
          "name": "stdout"
        }
      ]
    },
    {
      "cell_type": "code",
      "metadata": {
        "id": "4KEO7lGCljAK"
      },
      "source": [
        "# 損失関数の設定\n",
        "criterion = nn.CrossEntropyLoss()\n",
        "optimizer = optim.SGD([\n",
        "    {'params': params_to_update_1, 'lr': 1e-4},\n",
        "    {'params': params_to_update_2, 'lr': 5e-4},\n",
        "    {'params': params_to_update_3, 'lr': 1e-3}\n",
        "], momentum=0.9)\n"
      ],
      "execution_count": 11,
      "outputs": []
    },
    {
      "cell_type": "code",
      "metadata": {
        "id": "QGoakEJ8ltwk"
      },
      "source": [
        "# モデルを学習させる関数を作成\n",
        "\n",
        "\n",
        "def train_model(net, dataloaders_dict, criterion, optimizer):\n",
        "\n",
        "    # 初期設定\n",
        "    num_epochs = hyper_params[\"num_epochs\"]\n",
        "    # GPUが使えるかを確認\n",
        "    device = torch.device('cuda' if torch.cuda.is_available() else 'cpu')\n",
        "    print(\"使用デバイス：\", device)\n",
        "\n",
        "    # ネットワークをGPUへ\n",
        "    net.to(device)\n",
        "\n",
        "    # ネットワークがある程度固定であれば、高速化させる\n",
        "    torch.backends.cudnn.benchmark = True\n",
        "\n",
        "    # epochのループ\n",
        "    for epoch in range(num_epochs):\n",
        "        print('Epoch {}/{}'.format(epoch+1, num_epochs))\n",
        "        print('-------------')\n",
        "\n",
        "        # epochごとの訓練と検証のループ\n",
        "        for phase in ['train', 'val']:\n",
        "            if phase == 'train':\n",
        "                net.train()  # モデルを訓練モードに\n",
        "            else:\n",
        "                net.eval()   # モデルを検証モードに\n",
        "\n",
        "            epoch_loss = 0.0  # epochの損失和\n",
        "            epoch_corrects = 0  # epochの正解数\n",
        "            normal_corrects = 0\n",
        "            normal_counts = 0\n",
        "            broken_corrects = 0\n",
        "            broken_counts = 0\n",
        "\n",
        "            # 未学習時の検証性能を確かめるため、epoch=0の訓練は省略\n",
        "            if (epoch == 0) and (phase == 'train'):\n",
        "                continue\n",
        "\n",
        "            # データローダーからミニバッチを取り出すループ\n",
        "            for inputs, labels in tqdm(dataloaders_dict[phase]):\n",
        "\n",
        "                # GPUが使えるならGPUにデータを送る\n",
        "                inputs = inputs.to(device)\n",
        "                labels = labels.to(device)\n",
        "\n",
        "                # optimizerを初期化\n",
        "                optimizer.zero_grad()\n",
        "\n",
        "                # 順伝搬（forward）計算\n",
        "                with torch.set_grad_enabled(phase == 'train'):\n",
        "                    outputs = net(inputs)\n",
        "                    loss = criterion(outputs, labels)  # 損失を計算\n",
        "                    _, preds = torch.max(outputs, 1)  # ラベルを予測\n",
        "\n",
        "                    # 訓練時はバックプロパゲーション\n",
        "                    if phase == 'train':\n",
        "                        loss.backward()\n",
        "                        optimizer.step()\n",
        "\n",
        "                    # 結果の計算\n",
        "                    epoch_loss += loss.item() * inputs.size(0)  # lossの合計を更新\n",
        "                    # 正解数の合計を更新\n",
        "                    epoch_corrects += torch.sum(preds == labels.data)\n",
        "                    #ラベルごとの正解数の合計を計算\n",
        "                    if  preds == lebels.data:\n",
        "                      if preds == lebels.data:\n",
        "                        normal_corrects +=1\n",
        "                      else:\n",
        "                        pass\n",
        "                      normal_counts +=1\n",
        "                    elif labels.data == 1:\n",
        "                      if preds == lebels.data:\n",
        "                        broken_corrects +=1\n",
        "                      else:\n",
        "                        pass\n",
        "                      broken_counts +=1\n",
        "\n",
        "            \n",
        "\n",
        "            # epochごとのlossと正解率をcomet_mlに格納\n",
        "            metrics = {}\n",
        "            if phase == 'train':\n",
        "              metrics['train_loss'] = epoch_loss / len(dataloaders_dict[phase].dataset)\n",
        "              metrics['train_acc']  = epoch_corrects.double() / len(dataloaders_dict[phase].dataset)\n",
        "              metrics['train_normal_acc'] = normal_corrects.double() / normal_counts\n",
        "              metrics['train_broken_acc'] = broken_corrects.double() / broken_counts\n",
        "\n",
        "\n",
        "            elif phase == 'val':\n",
        "              metrics['test_loss']  =  epoch_loss / len(dataloaders_dict[phase].dataset)\n",
        "              metrics['test_acc']  = epoch_acc = epoch_corrects.double() / len(dataloaders_dict[phase].dataset)\n",
        "              metrics['train_normal_acc'] = normal_corrects.double() / normal_counts\n",
        "              metrics['train_broken_acc'] = broken_corrects.double() / broken_counts\n",
        "\n",
        "\n",
        "\n",
        "\n",
        "            experiment.log_metrics(metrics, step=epoch)\n",
        "            print('Epoch:{}'.format(epoch))\n",
        "            \n",
        "    experiment.end()\n",
        "    # PyTorchのネットワークパラメータの保存\n",
        "    save_path = './saveweight/weights_fine_tuning.pth'\n",
        "    torch.save(net.state_dict(), save_path)\n",
        "    print('Finish')\n"
      ],
      "execution_count": 14,
      "outputs": []
    },
    {
      "cell_type": "code",
      "metadata": {
        "id": "QTMEjtuolvua"
      },
      "source": [
        "# 学習・検証を実行する\n",
        "train_model(net, dataloaders_dict, criterion, optimizer)"
      ],
      "execution_count": null,
      "outputs": []
    },
    {
      "cell_type": "code",
      "metadata": {
        "colab": {
          "base_uri": "https://localhost:8080/"
        },
        "id": "yZ6cVGBntAOk",
        "outputId": "d695d6a8-5041-4868-eda9-706d1022cffb"
      },
      "source": [
        "val_dataloader"
      ],
      "execution_count": 25,
      "outputs": [
        {
          "output_type": "execute_result",
          "data": {
            "text/plain": [
              "<torch.utils.data.dataloader.DataLoader at 0x7f94e8079588>"
            ]
          },
          "metadata": {
            "tags": []
          },
          "execution_count": 25
        }
      ]
    },
    {
      "cell_type": "code",
      "metadata": {
        "colab": {
          "base_uri": "https://localhost:8080/"
        },
        "id": "se7_SUt9wKYl",
        "outputId": "ece61178-3340-449d-98ca-fadfb4851e27"
      },
      "source": [
        "train_ = next(iter(dataloaders_dict['val']))\n",
        "print(train_)"
      ],
      "execution_count": 36,
      "outputs": [
        {
          "output_type": "stream",
          "text": [
            "[tensor([[[[2.0434, 2.0263, 1.9920,  ..., 2.0434, 2.0605, 2.0605],\n",
            "          [2.0263, 2.0263, 1.9920,  ..., 2.0777, 2.0777, 2.0605],\n",
            "          [2.0434, 2.0434, 2.0263,  ..., 2.0948, 2.0777, 2.0605],\n",
            "          ...,\n",
            "          [2.2489, 2.2489, 2.2489,  ..., 2.2489, 2.2489, 2.2489],\n",
            "          [2.2489, 2.2489, 2.2489,  ..., 2.2489, 2.2489, 2.2489],\n",
            "          [2.2489, 2.2489, 2.2489,  ..., 2.2489, 2.2489, 2.2489]],\n",
            "\n",
            "         [[2.2010, 2.1835, 2.1485,  ..., 2.1310, 2.1485, 2.1660],\n",
            "          [2.1835, 2.1835, 2.1485,  ..., 2.1660, 2.1660, 2.1660],\n",
            "          [2.2010, 2.2010, 2.1835,  ..., 2.1835, 2.1660, 2.1485],\n",
            "          ...,\n",
            "          [2.4286, 2.4286, 2.4286,  ..., 2.4286, 2.4286, 2.4286],\n",
            "          [2.4286, 2.4286, 2.4286,  ..., 2.4286, 2.4286, 2.4286],\n",
            "          [2.4286, 2.4286, 2.4286,  ..., 2.4286, 2.4286, 2.4286]],\n",
            "\n",
            "         [[2.0997, 2.0823, 2.0474,  ..., 1.9951, 2.0125, 2.0125],\n",
            "          [2.0823, 2.0823, 2.0474,  ..., 2.0474, 2.0300, 2.0300],\n",
            "          [2.0997, 2.0997, 2.0823,  ..., 2.0648, 2.0300, 2.0125],\n",
            "          ...,\n",
            "          [2.6400, 2.6400, 2.6400,  ..., 2.6400, 2.6400, 2.6400],\n",
            "          [2.6400, 2.6400, 2.6400,  ..., 2.6400, 2.6400, 2.6400],\n",
            "          [2.6400, 2.6400, 2.6400,  ..., 2.6400, 2.6400, 2.6400]]],\n",
            "\n",
            "\n",
            "        [[[1.1529, 1.6153, 1.2214,  ..., 1.2043, 0.7933, 0.9474],\n",
            "          [1.1529, 1.8379, 1.6495,  ..., 1.3927, 0.7248, 0.7933],\n",
            "          [0.5878, 1.5297, 1.9064,  ..., 1.5297, 0.5536, 0.5364],\n",
            "          ...,\n",
            "          [0.1597, 0.1597, 0.1597,  ..., 0.6392, 0.6392, 0.6563],\n",
            "          [0.1597, 0.1597, 0.1597,  ..., 0.6392, 0.6392, 0.6563],\n",
            "          [0.1597, 0.1597, 0.1597,  ..., 0.6392, 0.6392, 0.6563]],\n",
            "\n",
            "         [[1.2206, 1.6933, 1.2906,  ..., 1.2556, 0.8354, 0.9930],\n",
            "          [1.2206, 1.9209, 1.7283,  ..., 1.4482, 0.7654, 0.8354],\n",
            "          [0.6429, 1.6057, 1.9909,  ..., 1.5882, 0.5903, 0.5728],\n",
            "          ...,\n",
            "          [0.2927, 0.2927, 0.2927,  ..., 0.8529, 0.8529, 0.8704],\n",
            "          [0.2927, 0.2927, 0.2927,  ..., 0.8529, 0.8529, 0.8704],\n",
            "          [0.2927, 0.2927, 0.2927,  ..., 0.8529, 0.8529, 0.8704]],\n",
            "\n",
            "         [[1.3328, 1.8034, 1.4025,  ..., 1.2631, 0.8448, 1.0017],\n",
            "          [1.3328, 2.0300, 1.8383,  ..., 1.4548, 0.7751, 0.8448],\n",
            "          [0.7576, 1.7163, 2.0997,  ..., 1.5942, 0.6008, 0.5834],\n",
            "          ...,\n",
            "          [0.5136, 0.5136, 0.5136,  ..., 1.2282, 1.2282, 1.2457],\n",
            "          [0.5136, 0.5136, 0.5136,  ..., 1.2282, 1.2282, 1.2457],\n",
            "          [0.5136, 0.5136, 0.5136,  ..., 1.2282, 1.2282, 1.2457]]],\n",
            "\n",
            "\n",
            "        [[[1.1700, 1.1700, 1.1700,  ..., 0.6563, 0.6563, 0.6563],\n",
            "          [1.1700, 1.1700, 1.1700,  ..., 0.6563, 0.6563, 0.6563],\n",
            "          [1.1872, 1.1872, 1.1872,  ..., 0.6563, 0.6563, 0.6563],\n",
            "          ...,\n",
            "          [0.3481, 0.3481, 0.3652,  ..., 1.0673, 1.0331, 0.9988],\n",
            "          [0.3481, 0.3481, 0.3481,  ..., 1.0502, 1.0159, 0.9988],\n",
            "          [0.3309, 0.3481, 0.3652,  ..., 1.0331, 0.9988, 0.9988]],\n",
            "\n",
            "         [[1.1681, 1.1681, 1.1681,  ..., 0.7129, 0.7129, 0.7129],\n",
            "          [1.1681, 1.1681, 1.1681,  ..., 0.7129, 0.7129, 0.7129],\n",
            "          [1.1856, 1.1856, 1.1856,  ..., 0.7129, 0.7129, 0.7129],\n",
            "          ...,\n",
            "          [0.4153, 0.4153, 0.4328,  ..., 1.1506, 1.1155, 1.0805],\n",
            "          [0.4153, 0.4153, 0.4153,  ..., 1.1331, 1.0980, 1.0805],\n",
            "          [0.3978, 0.4153, 0.4328,  ..., 1.1155, 1.0805, 1.0805]],\n",
            "\n",
            "         [[1.2282, 1.2282, 1.2282,  ..., 0.8274, 0.8274, 0.8274],\n",
            "          [1.2282, 1.2282, 1.2282,  ..., 0.8274, 0.8274, 0.8274],\n",
            "          [1.2457, 1.2457, 1.2457,  ..., 0.8274, 0.8274, 0.8274],\n",
            "          ...,\n",
            "          [0.4788, 0.4788, 0.4962,  ..., 1.1759, 1.1411, 1.1062],\n",
            "          [0.4788, 0.4788, 0.4788,  ..., 1.1585, 1.1237, 1.1062],\n",
            "          [0.4614, 0.4788, 0.4962,  ..., 1.1411, 1.1062, 1.1062]]],\n",
            "\n",
            "\n",
            "        [[[0.8789, 0.9646, 1.1187,  ..., 1.1187, 0.8961, 0.7933],\n",
            "          [0.8789, 0.9646, 1.1187,  ..., 1.1187, 0.8961, 0.7933],\n",
            "          [0.8961, 0.9817, 1.1358,  ..., 1.1187, 0.8961, 0.7933],\n",
            "          ...,\n",
            "          [0.8447, 0.9303, 1.0844,  ..., 1.0844, 0.9303, 0.8618],\n",
            "          [0.8447, 0.9303, 1.0844,  ..., 1.1015, 0.8961, 0.8104],\n",
            "          [0.8447, 0.9303, 1.0844,  ..., 1.1015, 0.8789, 0.7762]],\n",
            "\n",
            "         [[1.1856, 1.2731, 1.4307,  ..., 1.4307, 1.2031, 1.0980],\n",
            "          [1.1856, 1.2731, 1.4307,  ..., 1.4307, 1.2031, 1.0980],\n",
            "          [1.2031, 1.2906, 1.4482,  ..., 1.4307, 1.2031, 1.0980],\n",
            "          ...,\n",
            "          [1.0980, 1.1856, 1.3431,  ..., 1.3431, 1.1856, 1.1155],\n",
            "          [1.0980, 1.1856, 1.3431,  ..., 1.3606, 1.1506, 1.0630],\n",
            "          [1.0980, 1.1856, 1.3431,  ..., 1.3606, 1.1331, 1.0280]],\n",
            "\n",
            "         [[1.3502, 1.4374, 1.5942,  ..., 1.5942, 1.3677, 1.2631],\n",
            "          [1.3502, 1.4374, 1.5942,  ..., 1.5942, 1.3677, 1.2631],\n",
            "          [1.3677, 1.4548, 1.6117,  ..., 1.5942, 1.3677, 1.2631],\n",
            "          ...,\n",
            "          [1.2457, 1.3328, 1.4897,  ..., 1.5245, 1.3677, 1.2980],\n",
            "          [1.2457, 1.3328, 1.4897,  ..., 1.5420, 1.3328, 1.2457],\n",
            "          [1.2457, 1.3328, 1.4897,  ..., 1.5420, 1.3154, 1.2108]]]]), tensor([1, 1, 1, 1])]\n"
          ],
          "name": "stdout"
        }
      ]
    },
    {
      "cell_type": "code",
      "metadata": {
        "colab": {
          "base_uri": "https://localhost:8080/",
          "height": 211
        },
        "id": "9ngVS0CpxC29",
        "outputId": "da720d11-1c3b-41f4-e470-16d182e84234"
      },
      "source": [
        "for (data1, data2), label in loader:\n",
        "        print(data1.shape)\n",
        "        print(data2.shape)\n",
        "        print(label)"
      ],
      "execution_count": 27,
      "outputs": [
        {
          "output_type": "error",
          "ename": "ValueError",
          "evalue": "ignored",
          "traceback": [
            "\u001b[0;31m---------------------------------------------------------------------------\u001b[0m",
            "\u001b[0;31mValueError\u001b[0m                                Traceback (most recent call last)",
            "\u001b[0;32m<ipython-input-27-7b3a8cc9d515>\u001b[0m in \u001b[0;36m<module>\u001b[0;34m()\u001b[0m\n\u001b[0;32m----> 1\u001b[0;31m \u001b[0;32mfor\u001b[0m \u001b[0;34m(\u001b[0m\u001b[0mdata1\u001b[0m\u001b[0;34m,\u001b[0m \u001b[0mdata2\u001b[0m\u001b[0;34m)\u001b[0m\u001b[0;34m,\u001b[0m \u001b[0mlabel\u001b[0m \u001b[0;32min\u001b[0m \u001b[0mval_dataloader\u001b[0m\u001b[0;34m:\u001b[0m\u001b[0;34m\u001b[0m\u001b[0;34m\u001b[0m\u001b[0m\n\u001b[0m\u001b[1;32m      2\u001b[0m         \u001b[0mprint\u001b[0m\u001b[0;34m(\u001b[0m\u001b[0mdata1\u001b[0m\u001b[0;34m.\u001b[0m\u001b[0mshape\u001b[0m\u001b[0;34m)\u001b[0m\u001b[0;34m\u001b[0m\u001b[0;34m\u001b[0m\u001b[0m\n\u001b[1;32m      3\u001b[0m         \u001b[0mprint\u001b[0m\u001b[0;34m(\u001b[0m\u001b[0mdata2\u001b[0m\u001b[0;34m.\u001b[0m\u001b[0mshape\u001b[0m\u001b[0;34m)\u001b[0m\u001b[0;34m\u001b[0m\u001b[0;34m\u001b[0m\u001b[0m\n\u001b[1;32m      4\u001b[0m         \u001b[0mprint\u001b[0m\u001b[0;34m(\u001b[0m\u001b[0mlabel\u001b[0m\u001b[0;34m)\u001b[0m\u001b[0;34m\u001b[0m\u001b[0;34m\u001b[0m\u001b[0m\n",
            "\u001b[0;31mValueError\u001b[0m: too many values to unpack (expected 2)"
          ]
        }
      ]
    },
    {
      "cell_type": "code",
      "metadata": {
        "id": "6Lq36LYLxYyf"
      },
      "source": [
        ""
      ],
      "execution_count": null,
      "outputs": []
    }
  ]
}