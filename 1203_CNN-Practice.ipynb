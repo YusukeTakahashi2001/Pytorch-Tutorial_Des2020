{
 "cells": [
  {
   "cell_type": "code",
   "execution_count": 1,
   "metadata": {},
   "outputs": [
    {
     "name": "stdout",
     "output_type": "stream",
     "text": [
      "Requirement already satisfied: comet_ml in /home/yusuke/anaconda3/lib/python3.8/site-packages (3.2.6)\n",
      "Requirement already satisfied: wrapt>=1.11.2 in /home/yusuke/anaconda3/lib/python3.8/site-packages (from comet_ml) (1.11.2)\n",
      "Requirement already satisfied: netifaces>=0.10.7 in /home/yusuke/anaconda3/lib/python3.8/site-packages (from comet_ml) (0.10.9)\n",
      "Requirement already satisfied: websocket-client>=0.55.0 in /home/yusuke/anaconda3/lib/python3.8/site-packages (from comet_ml) (0.57.0)\n",
      "Requirement already satisfied: six in /home/yusuke/anaconda3/lib/python3.8/site-packages (from comet_ml) (1.15.0)\n",
      "Requirement already satisfied: everett[ini]>=1.0.1; python_version >= \"3.0\" in /home/yusuke/anaconda3/lib/python3.8/site-packages (from comet_ml) (1.0.3)\n",
      "Requirement already satisfied: wurlitzer>=1.0.2 in /home/yusuke/anaconda3/lib/python3.8/site-packages (from comet_ml) (2.0.1)\n",
      "Requirement already satisfied: nvidia-ml-py3>=7.352.0 in /home/yusuke/anaconda3/lib/python3.8/site-packages (from comet_ml) (7.352.0)\n",
      "Requirement already satisfied: requests>=2.18.4 in /home/yusuke/anaconda3/lib/python3.8/site-packages (from comet_ml) (2.24.0)\n",
      "Requirement already satisfied: jsonschema!=3.1.0,>=2.6.0 in /home/yusuke/anaconda3/lib/python3.8/site-packages (from comet_ml) (3.2.0)\n",
      "Requirement already satisfied: dulwich>=0.20.6; python_version >= \"3.0\" in /home/yusuke/anaconda3/lib/python3.8/site-packages (from comet_ml) (0.20.14)\n",
      "Requirement already satisfied: configobj; extra == \"ini\" in /home/yusuke/anaconda3/lib/python3.8/site-packages (from everett[ini]>=1.0.1; python_version >= \"3.0\"->comet_ml) (5.0.6)\n",
      "Requirement already satisfied: urllib3!=1.25.0,!=1.25.1,<1.26,>=1.21.1 in /home/yusuke/anaconda3/lib/python3.8/site-packages (from requests>=2.18.4->comet_ml) (1.25.9)\n",
      "Requirement already satisfied: idna<3,>=2.5 in /home/yusuke/anaconda3/lib/python3.8/site-packages (from requests>=2.18.4->comet_ml) (2.10)\n",
      "Requirement already satisfied: chardet<4,>=3.0.2 in /home/yusuke/anaconda3/lib/python3.8/site-packages (from requests>=2.18.4->comet_ml) (3.0.4)\n",
      "Requirement already satisfied: certifi>=2017.4.17 in /home/yusuke/anaconda3/lib/python3.8/site-packages (from requests>=2.18.4->comet_ml) (2020.6.20)\n",
      "Requirement already satisfied: attrs>=17.4.0 in /home/yusuke/anaconda3/lib/python3.8/site-packages (from jsonschema!=3.1.0,>=2.6.0->comet_ml) (19.3.0)\n",
      "Requirement already satisfied: setuptools in /home/yusuke/anaconda3/lib/python3.8/site-packages (from jsonschema!=3.1.0,>=2.6.0->comet_ml) (49.2.0.post20200714)\n",
      "Requirement already satisfied: pyrsistent>=0.14.0 in /home/yusuke/anaconda3/lib/python3.8/site-packages (from jsonschema!=3.1.0,>=2.6.0->comet_ml) (0.16.0)\n"
     ]
    },
    {
     "name": "stderr",
     "output_type": "stream",
     "text": [
      "COMET INFO: Experiment is live on comet.ml https://www.comet.ml/yusuketakahashi2001/cnn-practice/1e3d85e8ae304781ba0d0672b71f4619\n",
      "\n"
     ]
    }
   ],
   "source": [
    "!pip install comet_ml\n",
    "# import comet_ml at the top of your file\n",
    "from comet_ml import Experiment\n",
    "\n",
    "# Create an experiment with your api key:\n",
    "experiment = Experiment(\n",
    "    api_key=\"1H4oWzrtQdGj3uKZIDjQomMQs\",\n",
    "    project_name=\"cnn-practice\",\n",
    "    workspace=\"yusuketakahashi2001\",\n",
    ")"
   ]
  },
  {
   "cell_type": "code",
   "execution_count": 5,
   "metadata": {},
   "outputs": [],
   "source": [
    "import numpy as np\n",
    "import torch\n",
    "import torch.nn as nn\n",
    "import torch.optim as optim\n",
    "import torch.utils.data as data\n",
    "import torchvision\n",
    "from torchvision import models,transforms,datasets\n",
    "import torch.nn.functional as F"
   ]
  },
  {
   "cell_type": "code",
   "execution_count": 7,
   "metadata": {},
   "outputs": [],
   "source": [
    "device = 'cuda' if torch.cuda.is_available() else 'cpu'"
   ]
  },
  {
   "cell_type": "code",
   "execution_count": 29,
   "metadata": {},
   "outputs": [],
   "source": [
    "class CNNNet(nn.Module):\n",
    "    def __init__(self,in_channel):\n",
    "        super(CNNNet,self).__init__()\n",
    "        self.layer1 = nn.Sequential(\n",
    "            nn.Conv2d(in_channels=in_channel,out_channels=16,kernel_size=3,stride=1),\n",
    "            nn.Conv2d(in_channels=16,out_channels=32,kernel_size=3,stride=1),\n",
    "        )\n",
    "        self.layer2 = nn.Sequential(\n",
    "            nn.Conv2d(in_channels=32,out_channels=64,kernel_size=3,stride=1),\n",
    "            nn.Conv2d(in_channels=64,out_channels=128,kernel_size=3,stride=1),\n",
    "            # out torch.Size([10, 128, 20, 20])\n",
    "        )\n",
    "        self.dence = nn.Sequential(\n",
    "            nn.Linear(128*20*20,128),\n",
    "            nn.Dropout(p=0.2),\n",
    "            nn.Linear(128,64),\n",
    "            nn.Dropout(p=0.2),\n",
    "            nn.Linear(64,10),  \n",
    "        )\n",
    "    def forward(self,x):\n",
    "        x = F.relu(self.layer1(x))\n",
    "        x = F.max_pool2d(x,2,2)\n",
    "        x = F.relu(self.layer2(x))\n",
    "        x = F.max_pool2d(x,2,2)\n",
    "        x = x.view(x.size(0),-1)\n",
    "        x = self.dence(x)\n",
    "        \n",
    "        return x\n",
    "        \n",
    "    def check_net_size(self,x):\n",
    "        x = self.layer1(x)\n",
    "        out = self.layer2(x)\n",
    "        \n",
    "        return out"
   ]
  },
  {
   "cell_type": "code",
   "execution_count": 33,
   "metadata": {},
   "outputs": [],
   "source": [
    "hyper_params = {\n",
    "    \"sequence_length\": 28,\n",
    "    \"num_layers\": 2,\n",
    "    \"num_classes\": 10,\n",
    "    \"batch_size\": 100,\n",
    "    \"num_epochs\": 4,\n",
    "    \"learning_rate\": 0.01,\n",
    "    \"in_channel\":1\n",
    "   \n",
    "}"
   ]
  },
  {
   "cell_type": "code",
   "execution_count": 35,
   "metadata": {},
   "outputs": [],
   "source": [
    "class ImageTransform():\n",
    "    def __init__(self):\n",
    "        self.data_out = transforms.Compose([\n",
    "            transforms.ToTensor()\n",
    "        ])\n",
    "        \n",
    "    def __call__(self,img):\n",
    "        return self.data_out(img)"
   ]
  },
  {
   "cell_type": "code",
   "execution_count": 36,
   "metadata": {},
   "outputs": [],
   "source": [
    "def main():\n",
    "    net = CNNNet(in_channel=hyper_params[\"in_channel\"])\n",
    "    net.to(device)\n",
    "    optimizer = optim.Adam(net.parameters(),lr=hyper_params[\"learning_rate\"])\n",
    "    criterion = nn.CrossEntropyLoss()\n",
    "    trans = ImageTransform()\n",
    "    \n",
    "    #dataload\n",
    "    dtrain = torch.utils.data.DataLoader(\n",
    "        datasets.FashionMNIST('./data/fashion-mnist',train=True,download=True,transform=trans),\n",
    "        batch_size = hyper_params[\"batch_size\"],\n",
    "        shuffle = True\n",
    "    )\n",
    "    \n",
    "    dtest = torch.utils.data.DataLoader(\n",
    "        datasets.FashionMNIST('./data/fashion-mnist',train=False,download=True,transform=trans),\n",
    "        batch_size = hyper_params[\"batch_size\"],\n",
    "        shuffle = False\n",
    "    )\n",
    "    \n",
    "    loss_train = []\n",
    "    loss_test = []\n",
    "    acc_test = []\n",
    "    \n",
    "    for epoch in range(1,hyper_params[\"num_epochs\"]+1):\n",
    "        batch_loss_train = []\n",
    "        batch_loss_test = []\n",
    "        correct_total = 0\n",
    "        total = 0\n",
    "        \n",
    "        #train\n",
    "        net.train()\n",
    "        for xbatch_train,tbatch_train in dtrain:\n",
    "            xbatch_train = xbatch_train.to(device)\n",
    "            tbatch_train = tbatch_train.to(device)\n",
    "            #Initialize grad\n",
    "            net.zero_grad()\n",
    "            ybatch_train = model.forward(xbatch_train)\n",
    "            lbatch_train = criterion(ybatch_train,tbatch_train)\n",
    "            lbatch_train.backward()\n",
    "            optimizer.step()\n",
    "            batch_loss_train.append(lbatch_train.tolist())\n",
    "            \n",
    "        net.eval()\n",
    "        for xbatch_test,tbatch_test in dtest:\n",
    "            xbatch_test = xbatch_test.to(device)\n",
    "            tbatch_test = tbatch_test.to(device)\n",
    "            ybatch_test = net.forward(xbatch_test)\n",
    "            lbatch_test = criterion(ybatch_test,tbatch_test)\n",
    "            batch_loss_test.append(lbatch_test.tolist())\n",
    "            \n",
    "            tbatch_label = ybatch_test.argmax(1).to('cpu').numpy()\n",
    "            tbatch_test = tbatch_test.to('cpu').numpy()\n",
    "            correct += np.sum((label_test_batch - t_test_batch) == 0)\n",
    "            total +=1\n",
    "            \n",
    "        loss_train.append(np.mean(loss_batch_list_train))\n",
    "        loss_test.append(np.mean(loss_batch_list_test))\n",
    "        acc_test = 100*correct/total\n",
    "        acc_test.append(acc_test_batch)\n",
    "        \n",
    "        print('EPOCH: {},TRAIN LOSS:{:.3f},TEST LOSS:{:.3f},TEST ACC:{:.3f}'.format(\n",
    "            epoch,\n",
    "            np.mean(loss_list_train),\n",
    "            np.mean(loss_list_test),\n",
    "            acc_test_batch\n",
    "        ))\n",
    "        \n",
    "            \n",
    "        \n",
    "            \n",
    "        \n",
    "        \n",
    "    \n",
    "    \n",
    "    "
   ]
  },
  {
   "cell_type": "code",
   "execution_count": null,
   "metadata": {},
   "outputs": [],
   "source": [
    "if __name__ == '__main__':\n",
    "    main()"
   ]
  }
 ],
 "metadata": {
  "kernelspec": {
   "display_name": "Python 3",
   "language": "python",
   "name": "python3"
  },
  "language_info": {
   "codemirror_mode": {
    "name": "ipython",
    "version": 3
   },
   "file_extension": ".py",
   "mimetype": "text/x-python",
   "name": "python",
   "nbconvert_exporter": "python",
   "pygments_lexer": "ipython3",
   "version": "3.8.3"
  }
 },
 "nbformat": 4,
 "nbformat_minor": 4
}
